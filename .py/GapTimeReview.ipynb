{
 "cells": [
  {
   "cell_type": "code",
   "execution_count": 71,
   "metadata": {},
   "outputs": [],
   "source": [
    "import pandas as pd\n",
    "from sqlalchemy import create_engine\n",
    "\n",
    "import psycopg2"
   ]
  },
  {
   "cell_type": "code",
   "execution_count": 72,
   "metadata": {},
   "outputs": [],
   "source": [
    "csv1 = \"Productivity Work Template.csv\"\n"
   ]
  },
  {
   "cell_type": "code",
   "execution_count": 73,
   "metadata": {},
   "outputs": [],
   "source": [
    "df1 = pd.read_csv(csv1)\n"
   ]
  },
  {
   "cell_type": "code",
   "execution_count": 74,
   "metadata": {},
   "outputs": [
    {
     "data": {
      "text/plain": [
       "Index(['Employee', 'Paid Time', 'Gap Time', 'Utilization', 'Productive Time',\n",
       "       'Performance', 'Productive LPH', 'LPH', 'Lost Trans/LPH Per Hr',\n",
       "       'Lost Trans', 'Rate', 'Rate Diff +/-', 'WE DATE', 'Unnamed: 13',\n",
       "       'Unnamed: 14', 'Paid Time.1', 'Gap Time.1', 'Utilization.1',\n",
       "       'Productive Time.1', 'Performance.1', 'Productive LPH.1', 'LPH.1',\n",
       "       'Lost Trans/LPH Per Hr.1', 'Lost Trans.1', 'Rate.1', 'Rate Diff +/-.1',\n",
       "       'WE DATE.1'],\n",
       "      dtype='object')"
      ]
     },
     "execution_count": 74,
     "metadata": {},
     "output_type": "execute_result"
    }
   ],
   "source": [
    "df1.columns"
   ]
  },
  {
   "cell_type": "code",
   "execution_count": 75,
   "metadata": {},
   "outputs": [],
   "source": [
    "adjusted_df = df1[['Employee', 'Paid Time', 'Gap Time', 'Utilization', 'Productive Time',\n",
    "       'Performance', 'Productive LPH', 'LPH', 'Lost Trans/LPH Per Hr',\n",
    "       'Lost Trans', 'Rate', 'Rate Diff +/-', 'WE DATE']]"
   ]
  },
  {
   "cell_type": "code",
   "execution_count": 76,
   "metadata": {},
   "outputs": [],
   "source": [
    "adjusted_df.index.name = 'Index'"
   ]
  },
  {
   "cell_type": "code",
   "execution_count": null,
   "metadata": {},
   "outputs": [],
   "source": []
  },
  {
   "cell_type": "code",
   "execution_count": 77,
   "metadata": {},
   "outputs": [
    {
     "data": {
      "text/plain": [
       "Index(['Employee', 'Paid Time', 'Gap Time', 'Utilization', 'Productive Time',\n",
       "       'Performance', 'Productive LPH', 'LPH', 'Lost Trans/LPH Per Hr',\n",
       "       'Lost Trans', 'Rate', 'Rate Diff +/-', 'WE DATE'],\n",
       "      dtype='object')"
      ]
     },
     "execution_count": 77,
     "metadata": {},
     "output_type": "execute_result"
    }
   ],
   "source": [
    "adjusted_df.columns"
   ]
  },
  {
   "cell_type": "code",
   "execution_count": null,
   "metadata": {},
   "outputs": [],
   "source": []
  },
  {
   "cell_type": "code",
   "execution_count": 78,
   "metadata": {},
   "outputs": [
    {
     "data": {
      "text/plain": [
       "Employee                  object\n",
       "Paid Time                float64\n",
       "Gap Time                 float64\n",
       "Utilization               object\n",
       "Productive Time            int64\n",
       "Performance              float64\n",
       "Productive LPH            object\n",
       "LPH                       object\n",
       "Lost Trans/LPH Per Hr     object\n",
       "Lost Trans               float64\n",
       "Rate                     float64\n",
       "Rate Diff +/-            float64\n",
       "WE DATE                   object\n",
       "dtype: object"
      ]
     },
     "execution_count": 78,
     "metadata": {},
     "output_type": "execute_result"
    }
   ],
   "source": [
    "adjusted_df.dtypes"
   ]
  },
  {
   "cell_type": "code",
   "execution_count": 79,
   "metadata": {},
   "outputs": [],
   "source": [
    "adjusted_df.to_csv('New_Productivity_Work_Template.csv')"
   ]
  },
  {
   "cell_type": "code",
   "execution_count": 80,
   "metadata": {},
   "outputs": [],
   "source": [
    "finaldf = pd.concat([df1]) "
   ]
  },
  {
   "cell_type": "code",
   "execution_count": 81,
   "metadata": {},
   "outputs": [
    {
     "data": {
      "text/plain": [
       "Index(['Employee', 'Paid Time', 'Gap Time', 'Utilization', 'Productive Time',\n",
       "       'Performance', 'Productive LPH', 'LPH', 'Lost Trans/LPH Per Hr',\n",
       "       'Lost Trans', 'Rate', 'Rate Diff +/-', 'WE DATE', 'Unnamed: 13',\n",
       "       'Unnamed: 14', 'Paid Time.1', 'Gap Time.1', 'Utilization.1',\n",
       "       'Productive Time.1', 'Performance.1', 'Productive LPH.1', 'LPH.1',\n",
       "       'Lost Trans/LPH Per Hr.1', 'Lost Trans.1', 'Rate.1', 'Rate Diff +/-.1',\n",
       "       'WE DATE.1'],\n",
       "      dtype='object')"
      ]
     },
     "execution_count": 81,
     "metadata": {},
     "output_type": "execute_result"
    }
   ],
   "source": [
    "finaldf.columns"
   ]
  },
  {
   "cell_type": "code",
   "execution_count": 82,
   "metadata": {},
   "outputs": [],
   "source": [
    "finaldf= finaldf.drop([\"Unnamed: 13\",\"Unnamed: 14\"],axis=1)"
   ]
  },
  {
   "cell_type": "code",
   "execution_count": 83,
   "metadata": {},
   "outputs": [],
   "source": [
    "Connection_String = \"postgres:postgres@localhost:5432/production_db\"\n",
    "\n",
    "engine= create_engine(f'postgresql://{Connection_String}')"
   ]
  },
  {
   "cell_type": "code",
   "execution_count": 84,
   "metadata": {},
   "outputs": [
    {
     "data": {
      "text/html": [
       "<div>\n",
       "<style scoped>\n",
       "    .dataframe tbody tr th:only-of-type {\n",
       "        vertical-align: middle;\n",
       "    }\n",
       "\n",
       "    .dataframe tbody tr th {\n",
       "        vertical-align: top;\n",
       "    }\n",
       "\n",
       "    .dataframe thead th {\n",
       "        text-align: right;\n",
       "    }\n",
       "</style>\n",
       "<table border=\"1\" class=\"dataframe\">\n",
       "  <thead>\n",
       "    <tr style=\"text-align: right;\">\n",
       "      <th></th>\n",
       "      <th>Employee</th>\n",
       "      <th>Paid Time</th>\n",
       "      <th>Gap Time</th>\n",
       "      <th>Utilization</th>\n",
       "      <th>Productive Time</th>\n",
       "      <th>Performance</th>\n",
       "      <th>Productive LPH</th>\n",
       "      <th>LPH</th>\n",
       "      <th>Lost Trans/LPH Per Hr</th>\n",
       "      <th>Lost Trans</th>\n",
       "      <th>...</th>\n",
       "      <th>Utilization.1</th>\n",
       "      <th>Productive Time.1</th>\n",
       "      <th>Performance.1</th>\n",
       "      <th>Productive LPH.1</th>\n",
       "      <th>LPH.1</th>\n",
       "      <th>Lost Trans/LPH Per Hr.1</th>\n",
       "      <th>Lost Trans.1</th>\n",
       "      <th>Rate.1</th>\n",
       "      <th>Rate Diff +/-.1</th>\n",
       "      <th>WE DATE.1</th>\n",
       "    </tr>\n",
       "    <tr>\n",
       "      <th>Index</th>\n",
       "      <th></th>\n",
       "      <th></th>\n",
       "      <th></th>\n",
       "      <th></th>\n",
       "      <th></th>\n",
       "      <th></th>\n",
       "      <th></th>\n",
       "      <th></th>\n",
       "      <th></th>\n",
       "      <th></th>\n",
       "      <th></th>\n",
       "      <th></th>\n",
       "      <th></th>\n",
       "      <th></th>\n",
       "      <th></th>\n",
       "      <th></th>\n",
       "      <th></th>\n",
       "      <th></th>\n",
       "      <th></th>\n",
       "      <th></th>\n",
       "      <th></th>\n",
       "    </tr>\n",
       "  </thead>\n",
       "  <tbody>\n",
       "    <tr>\n",
       "      <td>0</td>\n",
       "      <td>Dario Garcia Hernandez</td>\n",
       "      <td>40.00</td>\n",
       "      <td>17.1</td>\n",
       "      <td>57.3%</td>\n",
       "      <td>23</td>\n",
       "      <td>473.0</td>\n",
       "      <td>20.66</td>\n",
       "      <td>11.83</td>\n",
       "      <td>8.83</td>\n",
       "      <td>359.0</td>\n",
       "      <td>...</td>\n",
       "      <td>71%</td>\n",
       "      <td>1133.35</td>\n",
       "      <td>28065.0</td>\n",
       "      <td>24.8</td>\n",
       "      <td>16.7</td>\n",
       "      <td>8.1</td>\n",
       "      <td>8887.60</td>\n",
       "      <td>33395.25</td>\n",
       "      <td>-5330.25</td>\n",
       "      <td>11/1/2019</td>\n",
       "    </tr>\n",
       "    <tr>\n",
       "      <td>1</td>\n",
       "      <td>Eleazar Zarate</td>\n",
       "      <td>42.60</td>\n",
       "      <td>11.1</td>\n",
       "      <td>73.9%</td>\n",
       "      <td>32</td>\n",
       "      <td>537.0</td>\n",
       "      <td>17.05</td>\n",
       "      <td>12.61</td>\n",
       "      <td>4.44</td>\n",
       "      <td>233.0</td>\n",
       "      <td>...</td>\n",
       "      <td>64%</td>\n",
       "      <td>1004.00</td>\n",
       "      <td>24253.0</td>\n",
       "      <td>24.8</td>\n",
       "      <td>15.5</td>\n",
       "      <td>9.3</td>\n",
       "      <td>11051.50</td>\n",
       "      <td>32120.55</td>\n",
       "      <td>-7867.55</td>\n",
       "      <td>11/8/2019</td>\n",
       "    </tr>\n",
       "    <tr>\n",
       "      <td>2</td>\n",
       "      <td>Glen Bero</td>\n",
       "      <td>54.05</td>\n",
       "      <td>10.8</td>\n",
       "      <td>80.0%</td>\n",
       "      <td>43</td>\n",
       "      <td>1068.0</td>\n",
       "      <td>24.69</td>\n",
       "      <td>19.76</td>\n",
       "      <td>4.93</td>\n",
       "      <td>227.0</td>\n",
       "      <td>...</td>\n",
       "      <td>68%</td>\n",
       "      <td>1103.86</td>\n",
       "      <td>24397.0</td>\n",
       "      <td>24.2</td>\n",
       "      <td>15.6</td>\n",
       "      <td>8.5</td>\n",
       "      <td>10068.31</td>\n",
       "      <td>33266.10</td>\n",
       "      <td>-8869.10</td>\n",
       "      <td>11/15/2019</td>\n",
       "    </tr>\n",
       "    <tr>\n",
       "      <td>3</td>\n",
       "      <td>Guillermo Cuadra</td>\n",
       "      <td>30.15</td>\n",
       "      <td>9.3</td>\n",
       "      <td>69.2%</td>\n",
       "      <td>21</td>\n",
       "      <td>554.0</td>\n",
       "      <td>26.57</td>\n",
       "      <td>18.37</td>\n",
       "      <td>8.20</td>\n",
       "      <td>195.0</td>\n",
       "      <td>...</td>\n",
       "      <td>68%</td>\n",
       "      <td>1133.46</td>\n",
       "      <td>25660.0</td>\n",
       "      <td>22.9</td>\n",
       "      <td>14.5</td>\n",
       "      <td>8.4</td>\n",
       "      <td>10762.58</td>\n",
       "      <td>35336.70</td>\n",
       "      <td>-9676.70</td>\n",
       "      <td>11/22/2019</td>\n",
       "    </tr>\n",
       "    <tr>\n",
       "      <td>4</td>\n",
       "      <td>Jose Rivera</td>\n",
       "      <td>49.70</td>\n",
       "      <td>26.1</td>\n",
       "      <td>47.5%</td>\n",
       "      <td>24</td>\n",
       "      <td>606.0</td>\n",
       "      <td>25.68</td>\n",
       "      <td>12.19</td>\n",
       "      <td>13.48</td>\n",
       "      <td>548.0</td>\n",
       "      <td>...</td>\n",
       "      <td>79%</td>\n",
       "      <td>1190.26</td>\n",
       "      <td>23773.0</td>\n",
       "      <td>20.5</td>\n",
       "      <td>15.3</td>\n",
       "      <td>5.2</td>\n",
       "      <td>6107.95</td>\n",
       "      <td>31643.85</td>\n",
       "      <td>-7870.85</td>\n",
       "      <td>11/29/2019</td>\n",
       "    </tr>\n",
       "  </tbody>\n",
       "</table>\n",
       "<p>5 rows × 25 columns</p>\n",
       "</div>"
      ],
      "text/plain": [
       "                     Employee  Paid Time  Gap Time Utilization  \\\n",
       "Index                                                            \n",
       "0      Dario Garcia Hernandez      40.00      17.1       57.3%   \n",
       "1              Eleazar Zarate      42.60      11.1       73.9%   \n",
       "2                   Glen Bero      54.05      10.8       80.0%   \n",
       "3            Guillermo Cuadra      30.15       9.3       69.2%   \n",
       "4                 Jose Rivera      49.70      26.1       47.5%   \n",
       "\n",
       "       Productive Time  Performance Productive LPH    LPH  \\\n",
       "Index                                                       \n",
       "0                   23        473.0          20.66  11.83   \n",
       "1                   32        537.0          17.05  12.61   \n",
       "2                   43       1068.0          24.69  19.76   \n",
       "3                   21        554.0          26.57  18.37   \n",
       "4                   24        606.0          25.68  12.19   \n",
       "\n",
       "      Lost Trans/LPH Per Hr  Lost Trans  ...  Utilization.1  \\\n",
       "Index                                    ...                  \n",
       "0                      8.83       359.0  ...            71%   \n",
       "1                      4.44       233.0  ...            64%   \n",
       "2                      4.93       227.0  ...            68%   \n",
       "3                      8.20       195.0  ...            68%   \n",
       "4                     13.48       548.0  ...            79%   \n",
       "\n",
       "       Productive Time.1 Performance.1  Productive LPH.1  LPH.1  \\\n",
       "Index                                                             \n",
       "0                1133.35       28065.0              24.8   16.7   \n",
       "1                1004.00       24253.0              24.8   15.5   \n",
       "2                1103.86       24397.0              24.2   15.6   \n",
       "3                1133.46       25660.0              22.9   14.5   \n",
       "4                1190.26       23773.0              20.5   15.3   \n",
       "\n",
       "      Lost Trans/LPH Per Hr.1  Lost Trans.1    Rate.1  Rate Diff +/-.1  \\\n",
       "Index                                                                    \n",
       "0                         8.1       8887.60  33395.25         -5330.25   \n",
       "1                         9.3      11051.50  32120.55         -7867.55   \n",
       "2                         8.5      10068.31  33266.10         -8869.10   \n",
       "3                         8.4      10762.58  35336.70         -9676.70   \n",
       "4                         5.2       6107.95  31643.85         -7870.85   \n",
       "\n",
       "        WE DATE.1  \n",
       "Index              \n",
       "0       11/1/2019  \n",
       "1       11/8/2019  \n",
       "2      11/15/2019  \n",
       "3      11/22/2019  \n",
       "4      11/29/2019  \n",
       "\n",
       "[5 rows x 25 columns]"
      ]
     },
     "execution_count": 84,
     "metadata": {},
     "output_type": "execute_result"
    }
   ],
   "source": [
    "finaldf.head()"
   ]
  },
  {
   "cell_type": "code",
   "execution_count": 85,
   "metadata": {},
   "outputs": [],
   "source": [
    "finaldf.to_sql(name= 'GapTime1', con=engine, if_exists='replace',index=False) "
   ]
  },
  {
   "cell_type": "code",
   "execution_count": 86,
   "metadata": {},
   "outputs": [
    {
     "data": {
      "text/plain": [
       "13"
      ]
     },
     "execution_count": 86,
     "metadata": {},
     "output_type": "execute_result"
    }
   ],
   "source": [
    "len(adjusted_df.columns)"
   ]
  },
  {
   "cell_type": "code",
   "execution_count": 87,
   "metadata": {},
   "outputs": [
    {
     "data": {
      "text/html": [
       "<div>\n",
       "<style scoped>\n",
       "    .dataframe tbody tr th:only-of-type {\n",
       "        vertical-align: middle;\n",
       "    }\n",
       "\n",
       "    .dataframe tbody tr th {\n",
       "        vertical-align: top;\n",
       "    }\n",
       "\n",
       "    .dataframe thead th {\n",
       "        text-align: right;\n",
       "    }\n",
       "</style>\n",
       "<table border=\"1\" class=\"dataframe\">\n",
       "  <thead>\n",
       "    <tr style=\"text-align: right;\">\n",
       "      <th></th>\n",
       "      <th>Employee</th>\n",
       "      <th>Paid Time</th>\n",
       "      <th>Gap Time</th>\n",
       "      <th>Utilization</th>\n",
       "      <th>Productive Time</th>\n",
       "      <th>Performance</th>\n",
       "      <th>Productive LPH</th>\n",
       "      <th>LPH</th>\n",
       "      <th>Lost Trans/LPH Per Hr</th>\n",
       "      <th>Lost Trans</th>\n",
       "      <th>Rate</th>\n",
       "      <th>Rate Diff +/-</th>\n",
       "      <th>WE DATE</th>\n",
       "    </tr>\n",
       "    <tr>\n",
       "      <th>Index</th>\n",
       "      <th></th>\n",
       "      <th></th>\n",
       "      <th></th>\n",
       "      <th></th>\n",
       "      <th></th>\n",
       "      <th></th>\n",
       "      <th></th>\n",
       "      <th></th>\n",
       "      <th></th>\n",
       "      <th></th>\n",
       "      <th></th>\n",
       "      <th></th>\n",
       "      <th></th>\n",
       "    </tr>\n",
       "  </thead>\n",
       "  <tbody>\n",
       "    <tr>\n",
       "      <td>0</td>\n",
       "      <td>Dario Garcia Hernandez</td>\n",
       "      <td>40.00</td>\n",
       "      <td>17.1</td>\n",
       "      <td>57.3%</td>\n",
       "      <td>23</td>\n",
       "      <td>473.0</td>\n",
       "      <td>20.66</td>\n",
       "      <td>11.83</td>\n",
       "      <td>8.83</td>\n",
       "      <td>359.0</td>\n",
       "      <td>840.0</td>\n",
       "      <td>-367.0</td>\n",
       "      <td>11/1/2019</td>\n",
       "    </tr>\n",
       "    <tr>\n",
       "      <td>1</td>\n",
       "      <td>Eleazar Zarate</td>\n",
       "      <td>42.60</td>\n",
       "      <td>11.1</td>\n",
       "      <td>73.9%</td>\n",
       "      <td>32</td>\n",
       "      <td>537.0</td>\n",
       "      <td>17.05</td>\n",
       "      <td>12.61</td>\n",
       "      <td>4.44</td>\n",
       "      <td>233.0</td>\n",
       "      <td>895.0</td>\n",
       "      <td>-358.0</td>\n",
       "      <td>11/1/2019</td>\n",
       "    </tr>\n",
       "    <tr>\n",
       "      <td>2</td>\n",
       "      <td>Glen Bero</td>\n",
       "      <td>54.05</td>\n",
       "      <td>10.8</td>\n",
       "      <td>80.0%</td>\n",
       "      <td>43</td>\n",
       "      <td>1068.0</td>\n",
       "      <td>24.69</td>\n",
       "      <td>19.76</td>\n",
       "      <td>4.93</td>\n",
       "      <td>227.0</td>\n",
       "      <td>1135.0</td>\n",
       "      <td>-67.0</td>\n",
       "      <td>11/1/2019</td>\n",
       "    </tr>\n",
       "    <tr>\n",
       "      <td>3</td>\n",
       "      <td>Guillermo Cuadra</td>\n",
       "      <td>30.15</td>\n",
       "      <td>9.3</td>\n",
       "      <td>69.2%</td>\n",
       "      <td>21</td>\n",
       "      <td>554.0</td>\n",
       "      <td>26.57</td>\n",
       "      <td>18.37</td>\n",
       "      <td>8.20</td>\n",
       "      <td>195.0</td>\n",
       "      <td>633.0</td>\n",
       "      <td>-79.0</td>\n",
       "      <td>11/1/2019</td>\n",
       "    </tr>\n",
       "    <tr>\n",
       "      <td>4</td>\n",
       "      <td>Jose Rivera</td>\n",
       "      <td>49.70</td>\n",
       "      <td>26.1</td>\n",
       "      <td>47.5%</td>\n",
       "      <td>24</td>\n",
       "      <td>606.0</td>\n",
       "      <td>25.68</td>\n",
       "      <td>12.19</td>\n",
       "      <td>13.48</td>\n",
       "      <td>548.0</td>\n",
       "      <td>1044.0</td>\n",
       "      <td>-438.0</td>\n",
       "      <td>11/1/2019</td>\n",
       "    </tr>\n",
       "  </tbody>\n",
       "</table>\n",
       "</div>"
      ],
      "text/plain": [
       "                     Employee  Paid Time  Gap Time Utilization  \\\n",
       "Index                                                            \n",
       "0      Dario Garcia Hernandez      40.00      17.1       57.3%   \n",
       "1              Eleazar Zarate      42.60      11.1       73.9%   \n",
       "2                   Glen Bero      54.05      10.8       80.0%   \n",
       "3            Guillermo Cuadra      30.15       9.3       69.2%   \n",
       "4                 Jose Rivera      49.70      26.1       47.5%   \n",
       "\n",
       "       Productive Time  Performance Productive LPH    LPH  \\\n",
       "Index                                                       \n",
       "0                   23        473.0          20.66  11.83   \n",
       "1                   32        537.0          17.05  12.61   \n",
       "2                   43       1068.0          24.69  19.76   \n",
       "3                   21        554.0          26.57  18.37   \n",
       "4                   24        606.0          25.68  12.19   \n",
       "\n",
       "      Lost Trans/LPH Per Hr  Lost Trans    Rate  Rate Diff +/-    WE DATE  \n",
       "Index                                                                      \n",
       "0                      8.83       359.0   840.0         -367.0  11/1/2019  \n",
       "1                      4.44       233.0   895.0         -358.0  11/1/2019  \n",
       "2                      4.93       227.0  1135.0          -67.0  11/1/2019  \n",
       "3                      8.20       195.0   633.0          -79.0  11/1/2019  \n",
       "4                     13.48       548.0  1044.0         -438.0  11/1/2019  "
      ]
     },
     "execution_count": 87,
     "metadata": {},
     "output_type": "execute_result"
    }
   ],
   "source": [
    "adjusted_df.head()"
   ]
  },
  {
   "cell_type": "code",
   "execution_count": 88,
   "metadata": {},
   "outputs": [],
   "source": [
    "adjusted_df.to_sql(name=\"GapTime\", index=True, if_exists=\"append\", con=engine)"
   ]
  },
  {
   "cell_type": "code",
   "execution_count": null,
   "metadata": {},
   "outputs": [],
   "source": []
  },
  {
   "cell_type": "code",
   "execution_count": null,
   "metadata": {},
   "outputs": [],
   "source": []
  }
 ],
 "metadata": {
  "kernelspec": {
   "display_name": "Python 3",
   "language": "python",
   "name": "python3"
  },
  "language_info": {
   "codemirror_mode": {
    "name": "ipython",
    "version": 3
   },
   "file_extension": ".py",
   "mimetype": "text/x-python",
   "name": "python",
   "nbconvert_exporter": "python",
   "pygments_lexer": "ipython3",
   "version": "3.7.4"
  }
 },
 "nbformat": 4,
 "nbformat_minor": 2
}
